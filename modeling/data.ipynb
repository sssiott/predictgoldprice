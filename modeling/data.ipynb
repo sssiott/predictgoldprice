{
 "cells": [
  {
   "cell_type": "code",
   "execution_count": 1,
   "metadata": {},
   "outputs": [],
   "source": [
    "import requests\n",
    "import json\n",
    "import pandas as pd\n",
    "import numpy as np\n",
    "import psycopg2"
   ]
  },
  {
   "cell_type": "code",
   "execution_count": 2,
   "metadata": {},
   "outputs": [],
   "source": [
    "\n",
    "url = 'https://api.odcloud.kr/api/GetGeneralProductInfoService/v1/getGoldPriceInfo?numOfRows=576&pageNo=1&resultType=json&itmsNm=%EA%B8%88%2099.99K&serviceKey=E8xqjRTnATadRGXNxY2AZPEhJZ2iqcbw5%2FYy1g%2BO0jebgbGZDxz5ozNaAeJmc%2F%2Btedi4vF4mBBblOxqJXyYOoQ%3D%3D'\n",
    "page = requests.get(url)\n",
    "parsed_data = json.loads(page.text)\n",
    "item = parsed_data['response']['body']['items']['item']\n",
    "item\n",
    "price = [col['clpr'] for col in item]\n",
    "date = [col['basDt'] for col in item]\n",
    "gold = pd.DataFrame({'Date' : date,'Price' :price})\n",
    "gold.sort_values('Date',ascending=True,inplace=True)\n",
    "gold.reset_index(drop=True,inplace=True)\n",
    "gold['Date'] = gold['Date'].apply(pd.to_datetime)"
   ]
  },
  {
   "cell_type": "code",
   "execution_count": 3,
   "metadata": {},
   "outputs": [
    {
     "data": {
      "text/plain": [
       "'0.9.34'"
      ]
     },
     "execution_count": 3,
     "metadata": {},
     "output_type": "execute_result"
    }
   ],
   "source": [
    "import FinanceDataReader as fdr\n",
    "fdr.__version__"
   ]
  },
  {
   "cell_type": "code",
   "execution_count": 4,
   "metadata": {},
   "outputs": [],
   "source": [
    "def toseries(data):\n",
    "    data = pd.Series(data['Close'])[:-36]\n",
    "    return data"
   ]
  },
  {
   "cell_type": "code",
   "execution_count": 5,
   "metadata": {},
   "outputs": [],
   "source": [
    "kospi = pd.Series(fdr.DataReader('KS11', '2020')['Close'])[:-36]\n"
   ]
  },
  {
   "cell_type": "code",
   "execution_count": 6,
   "metadata": {},
   "outputs": [],
   "source": [
    "kosdaq = fdr.DataReader('KQ11','2020')\n",
    "kosdaq = toseries(kosdaq)"
   ]
  },
  {
   "cell_type": "code",
   "execution_count": 7,
   "metadata": {},
   "outputs": [],
   "source": [
    "sp500 = fdr.DataReader('US500','2020')\n",
    "sp500 = toseries(sp500)"
   ]
  },
  {
   "cell_type": "code",
   "execution_count": 8,
   "metadata": {},
   "outputs": [],
   "source": [
    "nasdaq = fdr.DataReader('IXIC','2020')\n",
    "nasdaq = toseries(nasdaq)"
   ]
  },
  {
   "cell_type": "code",
   "execution_count": 9,
   "metadata": {},
   "outputs": [],
   "source": [
    "exchangerate = fdr.DataReader('USD/KRW','2020')\n",
    "exchangerate = toseries(exchangerate)"
   ]
  },
  {
   "cell_type": "code",
   "execution_count": 10,
   "metadata": {},
   "outputs": [],
   "source": [
    "indexx = pd.DataFrame({'kospi':kospi,'kosdaq':kosdaq,'s&p500':sp500,'nasdaq':nasdaq,'exchangerate':exchangerate,})"
   ]
  },
  {
   "cell_type": "code",
   "execution_count": 11,
   "metadata": {},
   "outputs": [],
   "source": [
    "indexx.dropna(inplace=True)"
   ]
  },
  {
   "cell_type": "code",
   "execution_count": 12,
   "metadata": {},
   "outputs": [
    {
     "data": {
      "text/html": [
       "<div>\n",
       "<style scoped>\n",
       "    .dataframe tbody tr th:only-of-type {\n",
       "        vertical-align: middle;\n",
       "    }\n",
       "\n",
       "    .dataframe tbody tr th {\n",
       "        vertical-align: top;\n",
       "    }\n",
       "\n",
       "    .dataframe thead th {\n",
       "        text-align: right;\n",
       "    }\n",
       "</style>\n",
       "<table border=\"1\" class=\"dataframe\">\n",
       "  <thead>\n",
       "    <tr style=\"text-align: right;\">\n",
       "      <th></th>\n",
       "      <th>Date</th>\n",
       "      <th>kospi</th>\n",
       "      <th>kosdaq</th>\n",
       "      <th>s&amp;p500</th>\n",
       "      <th>nasdaq</th>\n",
       "      <th>exchangerate</th>\n",
       "    </tr>\n",
       "  </thead>\n",
       "  <tbody>\n",
       "    <tr>\n",
       "      <th>0</th>\n",
       "      <td>2020-01-02</td>\n",
       "      <td>2175.17</td>\n",
       "      <td>674.02</td>\n",
       "      <td>3257.85</td>\n",
       "      <td>9092.19</td>\n",
       "      <td>1157.35</td>\n",
       "    </tr>\n",
       "    <tr>\n",
       "      <th>1</th>\n",
       "      <td>2020-01-03</td>\n",
       "      <td>2176.46</td>\n",
       "      <td>669.93</td>\n",
       "      <td>3234.85</td>\n",
       "      <td>9020.77</td>\n",
       "      <td>1164.95</td>\n",
       "    </tr>\n",
       "    <tr>\n",
       "      <th>2</th>\n",
       "      <td>2020-01-06</td>\n",
       "      <td>2155.07</td>\n",
       "      <td>655.31</td>\n",
       "      <td>3246.28</td>\n",
       "      <td>9071.47</td>\n",
       "      <td>1166.94</td>\n",
       "    </tr>\n",
       "    <tr>\n",
       "      <th>3</th>\n",
       "      <td>2020-01-07</td>\n",
       "      <td>2175.54</td>\n",
       "      <td>663.44</td>\n",
       "      <td>3237.18</td>\n",
       "      <td>9068.58</td>\n",
       "      <td>1167.30</td>\n",
       "    </tr>\n",
       "    <tr>\n",
       "      <th>4</th>\n",
       "      <td>2020-01-08</td>\n",
       "      <td>2151.31</td>\n",
       "      <td>640.94</td>\n",
       "      <td>3253.05</td>\n",
       "      <td>9129.24</td>\n",
       "      <td>1162.25</td>\n",
       "    </tr>\n",
       "    <tr>\n",
       "      <th>...</th>\n",
       "      <td>...</td>\n",
       "      <td>...</td>\n",
       "      <td>...</td>\n",
       "      <td>...</td>\n",
       "      <td>...</td>\n",
       "      <td>...</td>\n",
       "    </tr>\n",
       "    <tr>\n",
       "      <th>554</th>\n",
       "      <td>2022-04-26</td>\n",
       "      <td>2668.31</td>\n",
       "      <td>911.16</td>\n",
       "      <td>4175.20</td>\n",
       "      <td>12490.74</td>\n",
       "      <td>1260.67</td>\n",
       "    </tr>\n",
       "    <tr>\n",
       "      <th>555</th>\n",
       "      <td>2022-04-27</td>\n",
       "      <td>2639.06</td>\n",
       "      <td>896.18</td>\n",
       "      <td>4183.96</td>\n",
       "      <td>12488.93</td>\n",
       "      <td>1266.27</td>\n",
       "    </tr>\n",
       "    <tr>\n",
       "      <th>556</th>\n",
       "      <td>2022-04-28</td>\n",
       "      <td>2667.49</td>\n",
       "      <td>892.22</td>\n",
       "      <td>4287.50</td>\n",
       "      <td>12871.53</td>\n",
       "      <td>1272.11</td>\n",
       "    </tr>\n",
       "    <tr>\n",
       "      <th>557</th>\n",
       "      <td>2022-04-29</td>\n",
       "      <td>2695.05</td>\n",
       "      <td>904.75</td>\n",
       "      <td>4131.93</td>\n",
       "      <td>12334.64</td>\n",
       "      <td>1263.48</td>\n",
       "    </tr>\n",
       "    <tr>\n",
       "      <th>558</th>\n",
       "      <td>2022-05-02</td>\n",
       "      <td>2687.45</td>\n",
       "      <td>901.82</td>\n",
       "      <td>4155.38</td>\n",
       "      <td>12536.02</td>\n",
       "      <td>1267.51</td>\n",
       "    </tr>\n",
       "  </tbody>\n",
       "</table>\n",
       "<p>559 rows × 6 columns</p>\n",
       "</div>"
      ],
      "text/plain": [
       "          Date    kospi  kosdaq   s&p500    nasdaq  exchangerate\n",
       "0   2020-01-02  2175.17  674.02  3257.85   9092.19       1157.35\n",
       "1   2020-01-03  2176.46  669.93  3234.85   9020.77       1164.95\n",
       "2   2020-01-06  2155.07  655.31  3246.28   9071.47       1166.94\n",
       "3   2020-01-07  2175.54  663.44  3237.18   9068.58       1167.30\n",
       "4   2020-01-08  2151.31  640.94  3253.05   9129.24       1162.25\n",
       "..         ...      ...     ...      ...       ...           ...\n",
       "554 2022-04-26  2668.31  911.16  4175.20  12490.74       1260.67\n",
       "555 2022-04-27  2639.06  896.18  4183.96  12488.93       1266.27\n",
       "556 2022-04-28  2667.49  892.22  4287.50  12871.53       1272.11\n",
       "557 2022-04-29  2695.05  904.75  4131.93  12334.64       1263.48\n",
       "558 2022-05-02  2687.45  901.82  4155.38  12536.02       1267.51\n",
       "\n",
       "[559 rows x 6 columns]"
      ]
     },
     "execution_count": 12,
     "metadata": {},
     "output_type": "execute_result"
    }
   ],
   "source": [
    "indexx.reset_index(drop=False)"
   ]
  },
  {
   "cell_type": "code",
   "execution_count": 13,
   "metadata": {},
   "outputs": [],
   "source": [
    "btc = fdr.DataReader('BTC/KRW','2020')\n",
    "btc = toseries(btc)\n",
    "\n",
    "btc = pd.DataFrame({'Date':btc.index,'btc':btc.values})"
   ]
  },
  {
   "cell_type": "code",
   "execution_count": 14,
   "metadata": {},
   "outputs": [],
   "source": [
    "indexi = pd.merge(indexx,btc, how='left',left_on='Date',right_on='Date')"
   ]
  },
  {
   "cell_type": "code",
   "execution_count": 15,
   "metadata": {},
   "outputs": [],
   "source": [
    "df = pd.merge(indexi,gold, how='left',left_on='Date',right_on='Date')"
   ]
  },
  {
   "cell_type": "code",
   "execution_count": 17,
   "metadata": {},
   "outputs": [],
   "source": [
    "statistic1 = pd.read_csv('./dataset/date.csv')\n",
    "statistic2 = pd.read_csv('./dataset/monthly.csv')\n",
    "statistic3 = pd.read_csv('./dataset/quarter.csv')"
   ]
  },
  {
   "cell_type": "code",
   "execution_count": 18,
   "metadata": {},
   "outputs": [],
   "source": [
    "bok = statistic1.iloc[0,:][5:-35]"
   ]
  },
  {
   "cell_type": "code",
   "execution_count": 19,
   "metadata": {},
   "outputs": [],
   "source": [
    "call = statistic1.iloc[1,:][5:-35]"
   ]
  },
  {
   "cell_type": "code",
   "execution_count": 20,
   "metadata": {},
   "outputs": [],
   "source": [
    "gdp = statistic3.iloc[2,:][5:]"
   ]
  },
  {
   "cell_type": "code",
   "execution_count": 21,
   "metadata": {},
   "outputs": [],
   "source": [
    "dately = pd.DataFrame({'bok':bok,'call':call})"
   ]
  },
  {
   "cell_type": "code",
   "execution_count": 23,
   "metadata": {},
   "outputs": [],
   "source": [
    "statistic2 = statistic2.drop(['단위','가중치'], axis=1).dropna()"
   ]
  },
  {
   "cell_type": "code",
   "execution_count": 24,
   "metadata": {},
   "outputs": [],
   "source": [
    "cpi = statistic2.iloc[1,:][3:]"
   ]
  },
  {
   "cell_type": "code",
   "execution_count": 25,
   "metadata": {},
   "outputs": [],
   "source": [
    "hdi = statistic2.iloc[2,:][3:]"
   ]
  },
  {
   "cell_type": "code",
   "execution_count": 26,
   "metadata": {},
   "outputs": [],
   "source": [
    "emi = statistic2.iloc[3,:][3:]"
   ]
  },
  {
   "cell_type": "code",
   "execution_count": 27,
   "metadata": {},
   "outputs": [],
   "source": [
    "monthly = pd.DataFrame({'cpi':cpi,'phi':hdi,'esi':emi})"
   ]
  },
  {
   "cell_type": "code",
   "execution_count": 79,
   "metadata": {},
   "outputs": [],
   "source": [
    "import sqlite3"
   ]
  },
  {
   "cell_type": "code",
   "execution_count": 37,
   "metadata": {},
   "outputs": [],
   "source": [
    "conn = psycopg2.connect(\n",
    "    host=\"jelani.db.elephantsql.com\",\n",
    "    database=\"zzzdzuqh\",\n",
    "    user=\"zzzdzuqh\",\n",
    "    password=\"cg6rqOB5NF2qQ4vqJfQYxxVGh14zIq9k\")"
   ]
  },
  {
   "cell_type": "code",
   "execution_count": 38,
   "metadata": {},
   "outputs": [],
   "source": [
    "cur = conn.cursor()"
   ]
  },
  {
   "cell_type": "code",
   "execution_count": 39,
   "metadata": {},
   "outputs": [],
   "source": [
    "for i,ii in gold.values:\n",
    "    cur.execute('INSERT INTO gold(date,price) VALUES (%s,%s)',(i.date(),ii))"
   ]
  },
  {
   "cell_type": "code",
   "execution_count": 40,
   "metadata": {},
   "outputs": [],
   "source": [
    "conn.commit()"
   ]
  },
  {
   "cell_type": "code",
   "execution_count": 41,
   "metadata": {},
   "outputs": [],
   "source": [
    "for i,ii in btc.values:\n",
    "    cur.execute('INSERT INTO btc(date,price) VALUES (%s,%s)',(i.date(),ii))"
   ]
  },
  {
   "cell_type": "code",
   "execution_count": 42,
   "metadata": {},
   "outputs": [],
   "source": [
    "indexx = indexx.reset_index(drop=False)"
   ]
  },
  {
   "cell_type": "code",
   "execution_count": 43,
   "metadata": {},
   "outputs": [],
   "source": [
    "for i,ii,iii,ix,v,vi in indexx.values:\n",
    "    cur.execute('INSERT INTO index_5 (date,kospi,kosdaq,sp500,nasdaq,exchangerate) VALUES (%s,%s,%s,%s,%s,%s)',(i.date(),ii,iii,ix,v,vi))"
   ]
  },
  {
   "cell_type": "code",
   "execution_count": 45,
   "metadata": {},
   "outputs": [],
   "source": [
    "conn.commit()"
   ]
  },
  {
   "cell_type": "code",
   "execution_count": 139,
   "metadata": {},
   "outputs": [],
   "source": [
    "monthly.reset_index(drop=False, inplace=True)"
   ]
  },
  {
   "cell_type": "code",
   "execution_count": 152,
   "metadata": {},
   "outputs": [],
   "source": [
    "monthly['index'] = monthly['index'].apply(pd.to_datetime)"
   ]
  },
  {
   "cell_type": "code",
   "execution_count": 153,
   "metadata": {},
   "outputs": [],
   "source": [
    "for i,ii,iii,iv in monthly.values:\n",
    "    cur.execute('INSERT INTO indicator (date, cpi, phi, esi) VALUES (?,?,?,?);',(i.date(),ii,iii,iv))"
   ]
  },
  {
   "cell_type": "code",
   "execution_count": 156,
   "metadata": {},
   "outputs": [],
   "source": [
    "dately.reset_index(drop=False,inplace=True)"
   ]
  },
  {
   "cell_type": "code",
   "execution_count": 162,
   "metadata": {},
   "outputs": [],
   "source": [
    "dately['index'] = dately['index'].apply(pd.to_datetime)"
   ]
  },
  {
   "cell_type": "code",
   "execution_count": 51,
   "metadata": {},
   "outputs": [],
   "source": [
    "dately.drop('call',axis=1,inplace=True)"
   ]
  },
  {
   "cell_type": "code",
   "execution_count": 53,
   "metadata": {},
   "outputs": [],
   "source": [
    "dately.reset_index(drop=False,inplace=True)"
   ]
  },
  {
   "cell_type": "code",
   "execution_count": 60,
   "metadata": {},
   "outputs": [],
   "source": [
    "dately['index'] = dately['index'].apply(pd.to_datetime)"
   ]
  },
  {
   "cell_type": "code",
   "execution_count": 61,
   "metadata": {},
   "outputs": [],
   "source": [
    "for i,ii in dately.values:\n",
    "    cur.execute('INSERT INTO basemoneyrate (date,bok) VALUES (%s,%s);',(i.date(),ii))"
   ]
  },
  {
   "cell_type": "code",
   "execution_count": 62,
   "metadata": {},
   "outputs": [],
   "source": [
    "conn.commit()"
   ]
  },
  {
   "cell_type": "code",
   "execution_count": 194,
   "metadata": {},
   "outputs": [
    {
     "data": {
      "text/plain": [
       "array([-1.3, -3.0, 2.3, 1.2, 1.7, 0.8, 0.2, 1.3, 0.6], dtype=object)"
      ]
     },
     "execution_count": 194,
     "metadata": {},
     "output_type": "execute_result"
    }
   ],
   "source": [
    "gdp.values"
   ]
  },
  {
   "cell_type": "code",
   "execution_count": 192,
   "metadata": {},
   "outputs": [],
   "source": [
    "quarter = pd.DataFrame({'date':monthly['index']})"
   ]
  },
  {
   "cell_type": "code",
   "execution_count": 195,
   "metadata": {},
   "outputs": [],
   "source": [
    "newdf = pd.DataFrame(np.repeat(gdp.values,3,axis=0))"
   ]
  },
  {
   "cell_type": "code",
   "execution_count": 199,
   "metadata": {},
   "outputs": [],
   "source": [
    "gdp = pd.concat([quarter,newdf],axis=1)"
   ]
  },
  {
   "cell_type": "code",
   "execution_count": 201,
   "metadata": {},
   "outputs": [],
   "source": [
    "gdp.columns = ['date','gdp']"
   ]
  },
  {
   "cell_type": "code",
   "execution_count": 205,
   "metadata": {},
   "outputs": [],
   "source": [
    "gdp = gdp[:-1]"
   ]
  },
  {
   "cell_type": "code",
   "execution_count": 206,
   "metadata": {},
   "outputs": [],
   "source": [
    "for i,ii in gdp.values:\n",
    "    cur.execute('INSERT INTO GDP (date,rate) VALUES (?,?);',(i.date(),ii))"
   ]
  },
  {
   "cell_type": "code",
   "execution_count": 207,
   "metadata": {},
   "outputs": [],
   "source": [
    "conn.commit()"
   ]
  }
 ],
 "metadata": {
  "kernelspec": {
   "display_name": "Python 3.9.12 ('project3')",
   "language": "python",
   "name": "python3"
  },
  "language_info": {
   "codemirror_mode": {
    "name": "ipython",
    "version": 3
   },
   "file_extension": ".py",
   "mimetype": "text/x-python",
   "name": "python",
   "nbconvert_exporter": "python",
   "pygments_lexer": "ipython3",
   "version": "3.9.12"
  },
  "orig_nbformat": 4,
  "vscode": {
   "interpreter": {
    "hash": "271d275409bb823d7b5088ff83e1a9f6aad69b81f865c52bd3523b21fcd063e0"
   }
  }
 },
 "nbformat": 4,
 "nbformat_minor": 2
}
