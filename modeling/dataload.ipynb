{
 "cells": [
  {
   "cell_type": "markdown",
   "metadata": {},
   "source": [
    "# DB import"
   ]
  },
  {
   "cell_type": "markdown",
   "metadata": {},
   "source": [
    "### import"
   ]
  },
  {
   "cell_type": "code",
   "execution_count": 1,
   "metadata": {},
   "outputs": [],
   "source": [
    "import requests\n",
    "import json\n",
    "import pandas as pd\n",
    "import numpy as np\n",
    "import psycopg2"
   ]
  },
  {
   "cell_type": "markdown",
   "metadata": {},
   "source": [
    "## 공공데이터포털에서 가져오기"
   ]
  },
  {
   "cell_type": "code",
   "execution_count": 2,
   "metadata": {},
   "outputs": [],
   "source": [
    "\n",
    "url = 'https://api.odcloud.kr/api/GetGeneralProductInfoService/v1/getGoldPriceInfo?numOfRows=576&pageNo=1&resultType=json&itmsNm=%EA%B8%88%2099.99K&serviceKey=E8xqjRTnATadRGXNxY2AZPEhJZ2iqcbw5%2FYy1g%2BO0jebgbGZDxz5ozNaAeJmc%2F%2Btedi4vF4mBBblOxqJXyYOoQ%3D%3D'\n",
    "page = requests.get(url)\n",
    "parsed_data = json.loads(page.text)\n",
    "item = parsed_data['response']['body']['items']['item']\n",
    "item\n",
    "price = [col['clpr'] for col in item]\n",
    "date = [col['basDt'] for col in item]\n",
    "gold = pd.DataFrame({'Date' : date,'Price' :price})\n",
    "gold.sort_values('Date',ascending=True,inplace=True)\n",
    "gold.reset_index(drop=True,inplace=True)\n",
    "gold['Date'] = gold['Date'].apply(pd.to_datetime)"
   ]
  },
  {
   "cell_type": "markdown",
   "metadata": {},
   "source": [
    "## FinanceDataReader에서 데이터 가져오기"
   ]
  },
  {
   "cell_type": "code",
   "execution_count": 3,
   "metadata": {},
   "outputs": [
    {
     "data": {
      "text/plain": [
       "'0.9.34'"
      ]
     },
     "execution_count": 3,
     "metadata": {},
     "output_type": "execute_result"
    }
   ],
   "source": [
    "import FinanceDataReader as fdr\n",
    "fdr.__version__"
   ]
  },
  {
   "cell_type": "code",
   "execution_count": 4,
   "metadata": {},
   "outputs": [],
   "source": [
    "def toseries(data):\n",
    "    data = pd.Series(data['Close'])[:-36]\n",
    "    return data"
   ]
  },
  {
   "cell_type": "code",
   "execution_count": 5,
   "metadata": {},
   "outputs": [],
   "source": [
    "kospi = pd.Series(fdr.DataReader('KS11', '2020')['Close'])[:-36]\n"
   ]
  },
  {
   "cell_type": "code",
   "execution_count": 6,
   "metadata": {},
   "outputs": [],
   "source": [
    "kosdaq = fdr.DataReader('KQ11','2020')\n",
    "kosdaq = toseries(kosdaq)"
   ]
  },
  {
   "cell_type": "code",
   "execution_count": 7,
   "metadata": {},
   "outputs": [],
   "source": [
    "sp500 = fdr.DataReader('US500','2020')\n",
    "sp500 = toseries(sp500)"
   ]
  },
  {
   "cell_type": "code",
   "execution_count": 8,
   "metadata": {},
   "outputs": [],
   "source": [
    "nasdaq = fdr.DataReader('IXIC','2020')\n",
    "nasdaq = toseries(nasdaq)"
   ]
  },
  {
   "cell_type": "code",
   "execution_count": 9,
   "metadata": {},
   "outputs": [],
   "source": [
    "exchangerate = fdr.DataReader('USD/KRW','2020')\n",
    "exchangerate = toseries(exchangerate)"
   ]
  },
  {
   "cell_type": "code",
   "execution_count": 10,
   "metadata": {},
   "outputs": [],
   "source": [
    "indexx = pd.DataFrame({'kospi':kospi,'kosdaq':kosdaq,'s&p500':sp500,'nasdaq':nasdaq,'exchangerate':exchangerate,})\n",
    "indexx.dropna(inplace=True)\n",
    "indexx.reset_index(drop=False)"
   ]
  },
  {
   "cell_type": "code",
   "execution_count": 13,
   "metadata": {},
   "outputs": [],
   "source": [
    "btc = fdr.DataReader('BTC/KRW','2020')\n",
    "btc = toseries(btc)\n",
    "\n",
    "btc = pd.DataFrame({'Date':btc.index,'btc':btc.values})"
   ]
  },
  {
   "cell_type": "code",
   "execution_count": 14,
   "metadata": {},
   "outputs": [],
   "source": [
    "indexi = pd.merge(indexx,btc, how='left',left_on='Date',right_on='Date')"
   ]
  },
  {
   "cell_type": "code",
   "execution_count": 15,
   "metadata": {},
   "outputs": [],
   "source": [
    "df = pd.merge(indexi,gold, how='left',left_on='Date',right_on='Date')"
   ]
  },
  {
   "cell_type": "code",
   "execution_count": 17,
   "metadata": {},
   "outputs": [],
   "source": [
    "statistic1 = pd.read_csv('./dataset/date.csv')\n",
    "statistic2 = pd.read_csv('./dataset/monthly.csv')\n",
    "statistic3 = pd.read_csv('./dataset/quarter.csv')"
   ]
  },
  {
   "cell_type": "code",
   "execution_count": 18,
   "metadata": {},
   "outputs": [],
   "source": [
    "bok = statistic1.iloc[0,:][5:-35]"
   ]
  },
  {
   "cell_type": "code",
   "execution_count": 19,
   "metadata": {},
   "outputs": [],
   "source": [
    "call = statistic1.iloc[1,:][5:-35]"
   ]
  },
  {
   "cell_type": "code",
   "execution_count": 20,
   "metadata": {},
   "outputs": [],
   "source": [
    "gdp = statistic3.iloc[2,:][5:]"
   ]
  },
  {
   "cell_type": "code",
   "execution_count": 21,
   "metadata": {},
   "outputs": [],
   "source": [
    "dately = pd.DataFrame({'bok':bok,'call':call})"
   ]
  },
  {
   "cell_type": "code",
   "execution_count": 23,
   "metadata": {},
   "outputs": [],
   "source": [
    "statistic2 = statistic2.drop(['단위','가중치'], axis=1).dropna()"
   ]
  },
  {
   "cell_type": "code",
   "execution_count": 24,
   "metadata": {},
   "outputs": [],
   "source": [
    "cpi = statistic2.iloc[1,:][3:]"
   ]
  },
  {
   "cell_type": "code",
   "execution_count": 25,
   "metadata": {},
   "outputs": [],
   "source": [
    "hdi = statistic2.iloc[2,:][3:]"
   ]
  },
  {
   "cell_type": "code",
   "execution_count": 26,
   "metadata": {},
   "outputs": [],
   "source": [
    "emi = statistic2.iloc[3,:][3:]"
   ]
  },
  {
   "cell_type": "code",
   "execution_count": 27,
   "metadata": {},
   "outputs": [],
   "source": [
    "monthly = pd.DataFrame({'cpi':cpi,'phi':hdi,'esi':emi})"
   ]
  },
  {
   "cell_type": "markdown",
   "metadata": {},
   "source": [
    "## ElephantSQL에 적재"
   ]
  },
  {
   "cell_type": "code",
   "execution_count": 79,
   "metadata": {},
   "outputs": [],
   "source": [
    "import sqlite3"
   ]
  },
  {
   "cell_type": "code",
   "execution_count": 37,
   "metadata": {},
   "outputs": [],
   "source": [
    "conn = psycopg2.connect(\n",
    "    host=\"jelani.db.elephantsql.com\",\n",
    "    database=\"zzzdzuqh\",\n",
    "    user=\"zzzdzuqh\",\n",
    "    password=\"cg6rqOB5NF2qQ4vqJfQYxxVGh14zIq9k\")"
   ]
  },
  {
   "cell_type": "code",
   "execution_count": 38,
   "metadata": {},
   "outputs": [],
   "source": [
    "cur = conn.cursor()"
   ]
  },
  {
   "cell_type": "code",
   "execution_count": 39,
   "metadata": {},
   "outputs": [],
   "source": [
    "for i,ii in gold.values:\n",
    "    cur.execute('INSERT INTO gold(date,price) VALUES (%s,%s)',(i.date(),ii))"
   ]
  },
  {
   "cell_type": "code",
   "execution_count": 40,
   "metadata": {},
   "outputs": [],
   "source": [
    "conn.commit()"
   ]
  },
  {
   "cell_type": "code",
   "execution_count": 41,
   "metadata": {},
   "outputs": [],
   "source": [
    "for i,ii in btc.values:\n",
    "    cur.execute('INSERT INTO btc(date,price) VALUES (%s,%s)',(i.date(),ii))"
   ]
  },
  {
   "cell_type": "code",
   "execution_count": 42,
   "metadata": {},
   "outputs": [],
   "source": [
    "indexx = indexx.reset_index(drop=False)"
   ]
  },
  {
   "cell_type": "code",
   "execution_count": 43,
   "metadata": {},
   "outputs": [],
   "source": [
    "for i,ii,iii,ix,v,vi in indexx.values:\n",
    "    cur.execute('INSERT INTO index_5 (date,kospi,kosdaq,sp500,nasdaq,exchangerate) VALUES (%s,%s,%s,%s,%s,%s)',(i.date(),ii,iii,ix,v,vi))"
   ]
  },
  {
   "cell_type": "code",
   "execution_count": 45,
   "metadata": {},
   "outputs": [],
   "source": [
    "conn.commit()"
   ]
  },
  {
   "cell_type": "code",
   "execution_count": 139,
   "metadata": {},
   "outputs": [],
   "source": [
    "monthly.reset_index(drop=False, inplace=True)"
   ]
  },
  {
   "cell_type": "code",
   "execution_count": 152,
   "metadata": {},
   "outputs": [],
   "source": [
    "monthly['index'] = monthly['index'].apply(pd.to_datetime)"
   ]
  },
  {
   "cell_type": "code",
   "execution_count": 153,
   "metadata": {},
   "outputs": [],
   "source": [
    "for i,ii,iii,iv in monthly.values:\n",
    "    cur.execute('INSERT INTO indicator (date, cpi, phi, esi) VALUES (?,?,?,?);',(i.date(),ii,iii,iv))"
   ]
  },
  {
   "cell_type": "code",
   "execution_count": 156,
   "metadata": {},
   "outputs": [],
   "source": [
    "dately.reset_index(drop=False,inplace=True)"
   ]
  },
  {
   "cell_type": "code",
   "execution_count": 162,
   "metadata": {},
   "outputs": [],
   "source": [
    "dately['index'] = dately['index'].apply(pd.to_datetime)"
   ]
  },
  {
   "cell_type": "code",
   "execution_count": 51,
   "metadata": {},
   "outputs": [],
   "source": [
    "dately.drop('call',axis=1,inplace=True)"
   ]
  },
  {
   "cell_type": "code",
   "execution_count": 53,
   "metadata": {},
   "outputs": [],
   "source": [
    "dately.reset_index(drop=False,inplace=True)"
   ]
  },
  {
   "cell_type": "code",
   "execution_count": 60,
   "metadata": {},
   "outputs": [],
   "source": [
    "dately['index'] = dately['index'].apply(pd.to_datetime)"
   ]
  },
  {
   "cell_type": "code",
   "execution_count": 61,
   "metadata": {},
   "outputs": [],
   "source": [
    "for i,ii in dately.values:\n",
    "    cur.execute('INSERT INTO basemoneyrate (date,bok) VALUES (%s,%s);',(i.date(),ii))"
   ]
  },
  {
   "cell_type": "code",
   "execution_count": 62,
   "metadata": {},
   "outputs": [],
   "source": [
    "conn.commit()"
   ]
  },
  {
   "cell_type": "code",
   "execution_count": 194,
   "metadata": {},
   "outputs": [
    {
     "data": {
      "text/plain": [
       "array([-1.3, -3.0, 2.3, 1.2, 1.7, 0.8, 0.2, 1.3, 0.6], dtype=object)"
      ]
     },
     "execution_count": 194,
     "metadata": {},
     "output_type": "execute_result"
    }
   ],
   "source": [
    "gdp.values"
   ]
  },
  {
   "cell_type": "code",
   "execution_count": 192,
   "metadata": {},
   "outputs": [],
   "source": [
    "quarter = pd.DataFrame({'date':monthly['index']})"
   ]
  },
  {
   "cell_type": "code",
   "execution_count": 195,
   "metadata": {},
   "outputs": [],
   "source": [
    "newdf = pd.DataFrame(np.repeat(gdp.values,3,axis=0))"
   ]
  },
  {
   "cell_type": "code",
   "execution_count": 199,
   "metadata": {},
   "outputs": [],
   "source": [
    "gdp = pd.concat([quarter,newdf],axis=1)"
   ]
  },
  {
   "cell_type": "code",
   "execution_count": 201,
   "metadata": {},
   "outputs": [],
   "source": [
    "gdp.columns = ['date','gdp']"
   ]
  },
  {
   "cell_type": "code",
   "execution_count": 205,
   "metadata": {},
   "outputs": [],
   "source": [
    "gdp = gdp[:-1]"
   ]
  },
  {
   "cell_type": "code",
   "execution_count": 206,
   "metadata": {},
   "outputs": [],
   "source": [
    "for i,ii in gdp.values:\n",
    "    cur.execute('INSERT INTO GDP (date,rate) VALUES (?,?);',(i.date(),ii))"
   ]
  },
  {
   "cell_type": "code",
   "execution_count": 207,
   "metadata": {},
   "outputs": [],
   "source": [
    "conn.commit()"
   ]
  }
 ],
 "metadata": {
  "kernelspec": {
   "display_name": "Python 3.9.12 ('project3')",
   "language": "python",
   "name": "python3"
  },
  "language_info": {
   "codemirror_mode": {
    "name": "ipython",
    "version": 3
   },
   "file_extension": ".py",
   "mimetype": "text/x-python",
   "name": "python",
   "nbconvert_exporter": "python",
   "pygments_lexer": "ipython3",
   "version": "3.9.12"
  },
  "orig_nbformat": 4,
  "vscode": {
   "interpreter": {
    "hash": "271d275409bb823d7b5088ff83e1a9f6aad69b81f865c52bd3523b21fcd063e0"
   }
  }
 },
 "nbformat": 4,
 "nbformat_minor": 2
}
