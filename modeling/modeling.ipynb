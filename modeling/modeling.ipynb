{
 "cells": [
  {
   "cell_type": "markdown",
   "metadata": {},
   "source": [
    "# 모델링"
   ]
  },
  {
   "cell_type": "markdown",
   "metadata": {},
   "source": [
    "## 데이터 임포트"
   ]
  },
  {
   "cell_type": "code",
   "execution_count": 1,
   "metadata": {},
   "outputs": [],
   "source": [
    "import pandas as pd\n",
    "import numpy as np\n",
    "import sqlite3\n",
    "from sklearn.model_selection import train_test_split  "
   ]
  },
  {
   "cell_type": "markdown",
   "metadata": {},
   "source": [
    "### sqlite3으로 db에서 데이터를 가져온다"
   ]
  },
  {
   "cell_type": "code",
   "execution_count": 2,
   "metadata": {},
   "outputs": [],
   "source": [
    "conn = sqlite3.connect('data.db')\n",
    "cur = conn.cursor()"
   ]
  },
  {
   "cell_type": "code",
   "execution_count": 3,
   "metadata": {},
   "outputs": [],
   "source": [
    "gold = cur.execute('SELECT * FROM gold')\n",
    "gold = pd.DataFrame(gold)\n",
    "gold.columns = ['date','price_gold']"
   ]
  },
  {
   "cell_type": "code",
   "execution_count": 4,
   "metadata": {},
   "outputs": [],
   "source": [
    "btc = cur.execute('SELECT * FROM bit')\n",
    "btc = pd.DataFrame(btc)\n",
    "btc.columns = ['date','price_btc']"
   ]
  },
  {
   "cell_type": "code",
   "execution_count": 5,
   "metadata": {},
   "outputs": [],
   "source": [
    "basemoneyrate = cur.execute('SELECT * FROM basemoneyrate')\n",
    "basemoneyrate = pd.DataFrame(basemoneyrate)\n",
    "basemoneyrate.columns = ['date','bok','call']"
   ]
  },
  {
   "cell_type": "code",
   "execution_count": 6,
   "metadata": {},
   "outputs": [],
   "source": [
    "index_list = cur.execute('SELECT * FROM index_5')\n",
    "index_list = pd.DataFrame(index_list)\n",
    "index_list.columns = ['date','kospi','kosdaq','sp500','nasdaq','exchangerate']"
   ]
  },
  {
   "cell_type": "code",
   "execution_count": 7,
   "metadata": {},
   "outputs": [],
   "source": [
    "indicator = cur.execute('SELECT * FROM indicator')\n",
    "indicator = pd.DataFrame(indicator)\n",
    "indicator.columns = ['date','cpi','phi','esi']"
   ]
  },
  {
   "cell_type": "code",
   "execution_count": 8,
   "metadata": {},
   "outputs": [],
   "source": [
    "gdp = cur.execute('SELECT * FROM GDP')\n",
    "gdp =pd.DataFrame(gdp)\n",
    "gdp.columns = ['date','gdp']"
   ]
  },
  {
   "cell_type": "markdown",
   "metadata": {},
   "source": [
    "### 데이터셋 만들기"
   ]
  },
  {
   "cell_type": "code",
   "execution_count": 9,
   "metadata": {},
   "outputs": [],
   "source": [
    "df1 = pd.merge(gold,btc,left_on='date',right_on='date')\n",
    "df2 = pd.merge(index_list,basemoneyrate,left_on='date',right_on='date')\n",
    "data = pd.merge(df2,df1,left_on='date',right_on='date')\n",
    "data.drop('date',axis=1,inplace=True)"
   ]
  },
  {
   "cell_type": "code",
   "execution_count": 10,
   "metadata": {},
   "outputs": [
    {
     "data": {
      "text/html": [
       "<div>\n",
       "<style scoped>\n",
       "    .dataframe tbody tr th:only-of-type {\n",
       "        vertical-align: middle;\n",
       "    }\n",
       "\n",
       "    .dataframe tbody tr th {\n",
       "        vertical-align: top;\n",
       "    }\n",
       "\n",
       "    .dataframe thead th {\n",
       "        text-align: right;\n",
       "    }\n",
       "</style>\n",
       "<table border=\"1\" class=\"dataframe\">\n",
       "  <thead>\n",
       "    <tr style=\"text-align: right;\">\n",
       "      <th></th>\n",
       "      <th>date</th>\n",
       "      <th>kospi</th>\n",
       "      <th>kosdaq</th>\n",
       "      <th>sp500</th>\n",
       "      <th>nasdaq</th>\n",
       "      <th>exchangerate</th>\n",
       "      <th>bok</th>\n",
       "      <th>call</th>\n",
       "      <th>price_gold</th>\n",
       "      <th>price_btc</th>\n",
       "    </tr>\n",
       "  </thead>\n",
       "  <tbody>\n",
       "    <tr>\n",
       "      <th>0</th>\n",
       "      <td>2020-01-02</td>\n",
       "      <td>2175.17</td>\n",
       "      <td>674.02</td>\n",
       "      <td>3257.85</td>\n",
       "      <td>9092.19</td>\n",
       "      <td>1157.35</td>\n",
       "      <td>1.25</td>\n",
       "      <td>1.300</td>\n",
       "      <td>56860.0</td>\n",
       "      <td>8046000.0</td>\n",
       "    </tr>\n",
       "    <tr>\n",
       "      <th>1</th>\n",
       "      <td>2020-01-03</td>\n",
       "      <td>2176.46</td>\n",
       "      <td>669.93</td>\n",
       "      <td>3234.85</td>\n",
       "      <td>9020.77</td>\n",
       "      <td>1164.95</td>\n",
       "      <td>1.25</td>\n",
       "      <td>1.270</td>\n",
       "      <td>57850.0</td>\n",
       "      <td>8472000.0</td>\n",
       "    </tr>\n",
       "    <tr>\n",
       "      <th>2</th>\n",
       "      <td>2020-01-06</td>\n",
       "      <td>2155.07</td>\n",
       "      <td>655.31</td>\n",
       "      <td>3246.28</td>\n",
       "      <td>9071.47</td>\n",
       "      <td>1166.94</td>\n",
       "      <td>1.25</td>\n",
       "      <td>1.290</td>\n",
       "      <td>59420.0</td>\n",
       "      <td>8855000.0</td>\n",
       "    </tr>\n",
       "    <tr>\n",
       "      <th>3</th>\n",
       "      <td>2020-01-07</td>\n",
       "      <td>2175.54</td>\n",
       "      <td>663.44</td>\n",
       "      <td>3237.18</td>\n",
       "      <td>9068.58</td>\n",
       "      <td>1167.30</td>\n",
       "      <td>1.25</td>\n",
       "      <td>1.270</td>\n",
       "      <td>58750.0</td>\n",
       "      <td>9391000.0</td>\n",
       "    </tr>\n",
       "    <tr>\n",
       "      <th>4</th>\n",
       "      <td>2020-01-08</td>\n",
       "      <td>2151.31</td>\n",
       "      <td>640.94</td>\n",
       "      <td>3253.05</td>\n",
       "      <td>9129.24</td>\n",
       "      <td>1162.25</td>\n",
       "      <td>1.25</td>\n",
       "      <td>1.250</td>\n",
       "      <td>60010.0</td>\n",
       "      <td>9096000.0</td>\n",
       "    </tr>\n",
       "    <tr>\n",
       "      <th>...</th>\n",
       "      <td>...</td>\n",
       "      <td>...</td>\n",
       "      <td>...</td>\n",
       "      <td>...</td>\n",
       "      <td>...</td>\n",
       "      <td>...</td>\n",
       "      <td>...</td>\n",
       "      <td>...</td>\n",
       "      <td>...</td>\n",
       "      <td>...</td>\n",
       "    </tr>\n",
       "    <tr>\n",
       "      <th>553</th>\n",
       "      <td>2022-04-25</td>\n",
       "      <td>2657.13</td>\n",
       "      <td>899.84</td>\n",
       "      <td>4296.12</td>\n",
       "      <td>13004.85</td>\n",
       "      <td>1250.10</td>\n",
       "      <td>1.50</td>\n",
       "      <td>1.418</td>\n",
       "      <td>76790.0</td>\n",
       "      <td>50633000.0</td>\n",
       "    </tr>\n",
       "    <tr>\n",
       "      <th>554</th>\n",
       "      <td>2022-04-26</td>\n",
       "      <td>2668.31</td>\n",
       "      <td>911.16</td>\n",
       "      <td>4175.20</td>\n",
       "      <td>12490.74</td>\n",
       "      <td>1260.67</td>\n",
       "      <td>1.50</td>\n",
       "      <td>1.385</td>\n",
       "      <td>76550.0</td>\n",
       "      <td>48710000.0</td>\n",
       "    </tr>\n",
       "    <tr>\n",
       "      <th>555</th>\n",
       "      <td>2022-04-27</td>\n",
       "      <td>2639.06</td>\n",
       "      <td>896.18</td>\n",
       "      <td>4183.96</td>\n",
       "      <td>12488.93</td>\n",
       "      <td>1266.27</td>\n",
       "      <td>1.50</td>\n",
       "      <td>1.359</td>\n",
       "      <td>77150.0</td>\n",
       "      <td>49918000.0</td>\n",
       "    </tr>\n",
       "    <tr>\n",
       "      <th>556</th>\n",
       "      <td>2022-04-28</td>\n",
       "      <td>2667.49</td>\n",
       "      <td>892.22</td>\n",
       "      <td>4287.50</td>\n",
       "      <td>12871.53</td>\n",
       "      <td>1272.11</td>\n",
       "      <td>1.50</td>\n",
       "      <td>1.347</td>\n",
       "      <td>76780.0</td>\n",
       "      <td>50549000.0</td>\n",
       "    </tr>\n",
       "    <tr>\n",
       "      <th>557</th>\n",
       "      <td>2022-04-29</td>\n",
       "      <td>2695.05</td>\n",
       "      <td>904.75</td>\n",
       "      <td>4131.93</td>\n",
       "      <td>12334.64</td>\n",
       "      <td>1263.48</td>\n",
       "      <td>1.50</td>\n",
       "      <td>1.530</td>\n",
       "      <td>77120.0</td>\n",
       "      <td>49715000.0</td>\n",
       "    </tr>\n",
       "  </tbody>\n",
       "</table>\n",
       "<p>558 rows × 10 columns</p>\n",
       "</div>"
      ],
      "text/plain": [
       "           date    kospi  kosdaq    sp500    nasdaq  exchangerate   bok  \\\n",
       "0    2020-01-02  2175.17  674.02  3257.85   9092.19       1157.35  1.25   \n",
       "1    2020-01-03  2176.46  669.93  3234.85   9020.77       1164.95  1.25   \n",
       "2    2020-01-06  2155.07  655.31  3246.28   9071.47       1166.94  1.25   \n",
       "3    2020-01-07  2175.54  663.44  3237.18   9068.58       1167.30  1.25   \n",
       "4    2020-01-08  2151.31  640.94  3253.05   9129.24       1162.25  1.25   \n",
       "..          ...      ...     ...      ...       ...           ...   ...   \n",
       "553  2022-04-25  2657.13  899.84  4296.12  13004.85       1250.10  1.50   \n",
       "554  2022-04-26  2668.31  911.16  4175.20  12490.74       1260.67  1.50   \n",
       "555  2022-04-27  2639.06  896.18  4183.96  12488.93       1266.27  1.50   \n",
       "556  2022-04-28  2667.49  892.22  4287.50  12871.53       1272.11  1.50   \n",
       "557  2022-04-29  2695.05  904.75  4131.93  12334.64       1263.48  1.50   \n",
       "\n",
       "      call  price_gold   price_btc  \n",
       "0    1.300     56860.0   8046000.0  \n",
       "1    1.270     57850.0   8472000.0  \n",
       "2    1.290     59420.0   8855000.0  \n",
       "3    1.270     58750.0   9391000.0  \n",
       "4    1.250     60010.0   9096000.0  \n",
       "..     ...         ...         ...  \n",
       "553  1.418     76790.0  50633000.0  \n",
       "554  1.385     76550.0  48710000.0  \n",
       "555  1.359     77150.0  49918000.0  \n",
       "556  1.347     76780.0  50549000.0  \n",
       "557  1.530     77120.0  49715000.0  \n",
       "\n",
       "[558 rows x 10 columns]"
      ]
     },
     "execution_count": 10,
     "metadata": {},
     "output_type": "execute_result"
    }
   ],
   "source": [
    "data"
   ]
  },
  {
   "cell_type": "code",
   "execution_count": 10,
   "metadata": {},
   "outputs": [],
   "source": [
    "data.drop('call',inplace=True,axis=1)"
   ]
  },
  {
   "cell_type": "code",
   "execution_count": 11,
   "metadata": {},
   "outputs": [
    {
     "data": {
      "text/html": [
       "<div>\n",
       "<style scoped>\n",
       "    .dataframe tbody tr th:only-of-type {\n",
       "        vertical-align: middle;\n",
       "    }\n",
       "\n",
       "    .dataframe tbody tr th {\n",
       "        vertical-align: top;\n",
       "    }\n",
       "\n",
       "    .dataframe thead th {\n",
       "        text-align: right;\n",
       "    }\n",
       "</style>\n",
       "<table border=\"1\" class=\"dataframe\">\n",
       "  <thead>\n",
       "    <tr style=\"text-align: right;\">\n",
       "      <th></th>\n",
       "      <th>kospi</th>\n",
       "      <th>kosdaq</th>\n",
       "      <th>sp500</th>\n",
       "      <th>nasdaq</th>\n",
       "      <th>exchangerate</th>\n",
       "      <th>bok</th>\n",
       "      <th>price_gold</th>\n",
       "      <th>price_btc</th>\n",
       "    </tr>\n",
       "  </thead>\n",
       "  <tbody>\n",
       "    <tr>\n",
       "      <th>0</th>\n",
       "      <td>2175.17</td>\n",
       "      <td>674.02</td>\n",
       "      <td>3257.85</td>\n",
       "      <td>9092.19</td>\n",
       "      <td>1157.35</td>\n",
       "      <td>1.25</td>\n",
       "      <td>56860.0</td>\n",
       "      <td>8046000.0</td>\n",
       "    </tr>\n",
       "    <tr>\n",
       "      <th>1</th>\n",
       "      <td>2176.46</td>\n",
       "      <td>669.93</td>\n",
       "      <td>3234.85</td>\n",
       "      <td>9020.77</td>\n",
       "      <td>1164.95</td>\n",
       "      <td>1.25</td>\n",
       "      <td>57850.0</td>\n",
       "      <td>8472000.0</td>\n",
       "    </tr>\n",
       "    <tr>\n",
       "      <th>2</th>\n",
       "      <td>2155.07</td>\n",
       "      <td>655.31</td>\n",
       "      <td>3246.28</td>\n",
       "      <td>9071.47</td>\n",
       "      <td>1166.94</td>\n",
       "      <td>1.25</td>\n",
       "      <td>59420.0</td>\n",
       "      <td>8855000.0</td>\n",
       "    </tr>\n",
       "    <tr>\n",
       "      <th>3</th>\n",
       "      <td>2175.54</td>\n",
       "      <td>663.44</td>\n",
       "      <td>3237.18</td>\n",
       "      <td>9068.58</td>\n",
       "      <td>1167.30</td>\n",
       "      <td>1.25</td>\n",
       "      <td>58750.0</td>\n",
       "      <td>9391000.0</td>\n",
       "    </tr>\n",
       "    <tr>\n",
       "      <th>4</th>\n",
       "      <td>2151.31</td>\n",
       "      <td>640.94</td>\n",
       "      <td>3253.05</td>\n",
       "      <td>9129.24</td>\n",
       "      <td>1162.25</td>\n",
       "      <td>1.25</td>\n",
       "      <td>60010.0</td>\n",
       "      <td>9096000.0</td>\n",
       "    </tr>\n",
       "    <tr>\n",
       "      <th>...</th>\n",
       "      <td>...</td>\n",
       "      <td>...</td>\n",
       "      <td>...</td>\n",
       "      <td>...</td>\n",
       "      <td>...</td>\n",
       "      <td>...</td>\n",
       "      <td>...</td>\n",
       "      <td>...</td>\n",
       "    </tr>\n",
       "    <tr>\n",
       "      <th>553</th>\n",
       "      <td>2657.13</td>\n",
       "      <td>899.84</td>\n",
       "      <td>4296.12</td>\n",
       "      <td>13004.85</td>\n",
       "      <td>1250.10</td>\n",
       "      <td>1.50</td>\n",
       "      <td>76790.0</td>\n",
       "      <td>50633000.0</td>\n",
       "    </tr>\n",
       "    <tr>\n",
       "      <th>554</th>\n",
       "      <td>2668.31</td>\n",
       "      <td>911.16</td>\n",
       "      <td>4175.20</td>\n",
       "      <td>12490.74</td>\n",
       "      <td>1260.67</td>\n",
       "      <td>1.50</td>\n",
       "      <td>76550.0</td>\n",
       "      <td>48710000.0</td>\n",
       "    </tr>\n",
       "    <tr>\n",
       "      <th>555</th>\n",
       "      <td>2639.06</td>\n",
       "      <td>896.18</td>\n",
       "      <td>4183.96</td>\n",
       "      <td>12488.93</td>\n",
       "      <td>1266.27</td>\n",
       "      <td>1.50</td>\n",
       "      <td>77150.0</td>\n",
       "      <td>49918000.0</td>\n",
       "    </tr>\n",
       "    <tr>\n",
       "      <th>556</th>\n",
       "      <td>2667.49</td>\n",
       "      <td>892.22</td>\n",
       "      <td>4287.50</td>\n",
       "      <td>12871.53</td>\n",
       "      <td>1272.11</td>\n",
       "      <td>1.50</td>\n",
       "      <td>76780.0</td>\n",
       "      <td>50549000.0</td>\n",
       "    </tr>\n",
       "    <tr>\n",
       "      <th>557</th>\n",
       "      <td>2695.05</td>\n",
       "      <td>904.75</td>\n",
       "      <td>4131.93</td>\n",
       "      <td>12334.64</td>\n",
       "      <td>1263.48</td>\n",
       "      <td>1.50</td>\n",
       "      <td>77120.0</td>\n",
       "      <td>49715000.0</td>\n",
       "    </tr>\n",
       "  </tbody>\n",
       "</table>\n",
       "<p>558 rows × 8 columns</p>\n",
       "</div>"
      ],
      "text/plain": [
       "       kospi  kosdaq    sp500    nasdaq  exchangerate   bok  price_gold  \\\n",
       "0    2175.17  674.02  3257.85   9092.19       1157.35  1.25     56860.0   \n",
       "1    2176.46  669.93  3234.85   9020.77       1164.95  1.25     57850.0   \n",
       "2    2155.07  655.31  3246.28   9071.47       1166.94  1.25     59420.0   \n",
       "3    2175.54  663.44  3237.18   9068.58       1167.30  1.25     58750.0   \n",
       "4    2151.31  640.94  3253.05   9129.24       1162.25  1.25     60010.0   \n",
       "..       ...     ...      ...       ...           ...   ...         ...   \n",
       "553  2657.13  899.84  4296.12  13004.85       1250.10  1.50     76790.0   \n",
       "554  2668.31  911.16  4175.20  12490.74       1260.67  1.50     76550.0   \n",
       "555  2639.06  896.18  4183.96  12488.93       1266.27  1.50     77150.0   \n",
       "556  2667.49  892.22  4287.50  12871.53       1272.11  1.50     76780.0   \n",
       "557  2695.05  904.75  4131.93  12334.64       1263.48  1.50     77120.0   \n",
       "\n",
       "      price_btc  \n",
       "0     8046000.0  \n",
       "1     8472000.0  \n",
       "2     8855000.0  \n",
       "3     9391000.0  \n",
       "4     9096000.0  \n",
       "..          ...  \n",
       "553  50633000.0  \n",
       "554  48710000.0  \n",
       "555  49918000.0  \n",
       "556  50549000.0  \n",
       "557  49715000.0  \n",
       "\n",
       "[558 rows x 8 columns]"
      ]
     },
     "execution_count": 11,
     "metadata": {},
     "output_type": "execute_result"
    }
   ],
   "source": [
    "data"
   ]
  },
  {
   "cell_type": "code",
   "execution_count": 12,
   "metadata": {},
   "outputs": [],
   "source": [
    "data.to_csv('dataset.csv',index=False)"
   ]
  },
  {
   "cell_type": "markdown",
   "metadata": {},
   "source": [
    "### 데이터셋 분할"
   ]
  },
  {
   "cell_type": "code",
   "execution_count": 13,
   "metadata": {},
   "outputs": [],
   "source": [
    "target = data['price_gold']\n",
    "feature = data.drop('price_gold', axis=1)"
   ]
  },
  {
   "cell_type": "code",
   "execution_count": 14,
   "metadata": {},
   "outputs": [],
   "source": [
    "X_train, X_test, y_train, y_test = train_test_split(feature,target, test_size=0.2)"
   ]
  },
  {
   "cell_type": "code",
   "execution_count": 15,
   "metadata": {},
   "outputs": [],
   "source": [
    "from sklearn.ensemble import RandomForestRegressor\n",
    "from sklearn.model_selection import cross_val_score\n",
    "from xgboost import XGBRegressor\n",
    "from sklearn.linear_model import LinearRegression"
   ]
  },
  {
   "cell_type": "code",
   "execution_count": 16,
   "metadata": {},
   "outputs": [],
   "source": [
    "model1 = LinearRegression()"
   ]
  },
  {
   "cell_type": "code",
   "execution_count": 17,
   "metadata": {},
   "outputs": [
    {
     "data": {
      "text/plain": [
       "LinearRegression()"
      ]
     },
     "execution_count": 17,
     "metadata": {},
     "output_type": "execute_result"
    }
   ],
   "source": [
    "model1.fit(X_train,y_train)"
   ]
  },
  {
   "cell_type": "code",
   "execution_count": 18,
   "metadata": {},
   "outputs": [
    {
     "data": {
      "text/plain": [
       "array(['kospi', 'kosdaq', 'sp500', 'nasdaq', 'exchangerate', 'bok',\n",
       "       'price_btc'], dtype=object)"
      ]
     },
     "execution_count": 18,
     "metadata": {},
     "output_type": "execute_result"
    }
   ],
   "source": [
    "model1.feature_names_in_"
   ]
  },
  {
   "cell_type": "code",
   "execution_count": 19,
   "metadata": {},
   "outputs": [
    {
     "data": {
      "text/plain": [
       "array([-1.66274672e+01,  7.51319994e+01,  2.47804628e+00, -9.87517626e-01,\n",
       "        3.93968488e+01,  1.46818760e+02, -2.89878904e-05])"
      ]
     },
     "execution_count": 19,
     "metadata": {},
     "output_type": "execute_result"
    }
   ],
   "source": [
    "model1.coef_"
   ]
  },
  {
   "cell_type": "code",
   "execution_count": 20,
   "metadata": {},
   "outputs": [
    {
     "data": {
      "text/plain": [
       "0.5747743613728167"
      ]
     },
     "execution_count": 20,
     "metadata": {},
     "output_type": "execute_result"
    }
   ],
   "source": [
    "model1.score(X_test,y_test)"
   ]
  },
  {
   "cell_type": "code",
   "execution_count": 21,
   "metadata": {},
   "outputs": [],
   "source": [
    "model2 = XGBRegressor(random_state=17)"
   ]
  },
  {
   "cell_type": "code",
   "execution_count": 22,
   "metadata": {},
   "outputs": [
    {
     "data": {
      "text/plain": [
       "XGBRegressor(base_score=0.5, booster='gbtree', callbacks=None,\n",
       "             colsample_bylevel=1, colsample_bynode=1, colsample_bytree=1,\n",
       "             early_stopping_rounds=None, enable_categorical=False,\n",
       "             eval_metric=None, gamma=0, gpu_id=-1, grow_policy='depthwise',\n",
       "             importance_type=None, interaction_constraints='',\n",
       "             learning_rate=0.300000012, max_bin=256, max_cat_to_onehot=4,\n",
       "             max_delta_step=0, max_depth=6, max_leaves=0, min_child_weight=1,\n",
       "             missing=nan, monotone_constraints='()', n_estimators=100, n_jobs=0,\n",
       "             num_parallel_tree=1, predictor='auto', random_state=17,\n",
       "             reg_alpha=0, reg_lambda=1, ...)"
      ]
     },
     "execution_count": 22,
     "metadata": {},
     "output_type": "execute_result"
    }
   ],
   "source": [
    "model2.fit(X_train,y_train)"
   ]
  },
  {
   "cell_type": "code",
   "execution_count": 23,
   "metadata": {},
   "outputs": [
    {
     "data": {
      "text/plain": [
       "0.9546759889151649"
      ]
     },
     "execution_count": 23,
     "metadata": {},
     "output_type": "execute_result"
    }
   ],
   "source": [
    "model2.score(X_test,y_test)"
   ]
  },
  {
   "cell_type": "code",
   "execution_count": 24,
   "metadata": {},
   "outputs": [],
   "source": [
    "pred = model2.predict(X_test)"
   ]
  },
  {
   "cell_type": "code",
   "execution_count": 25,
   "metadata": {},
   "outputs": [],
   "source": [
    "from sklearn.metrics import mean_absolute_error"
   ]
  },
  {
   "cell_type": "code",
   "execution_count": 26,
   "metadata": {},
   "outputs": [
    {
     "data": {
      "text/plain": [
       "712.1307198660714"
      ]
     },
     "execution_count": 26,
     "metadata": {},
     "output_type": "execute_result"
    }
   ],
   "source": [
    "mean_absolute_error(y_test,pred)"
   ]
  },
  {
   "cell_type": "code",
   "execution_count": 27,
   "metadata": {},
   "outputs": [],
   "source": [
    "from lightgbm import LGBMRegressor"
   ]
  },
  {
   "cell_type": "code",
   "execution_count": 28,
   "metadata": {},
   "outputs": [],
   "source": [
    "model3 = LGBMRegressor()"
   ]
  },
  {
   "cell_type": "code",
   "execution_count": 29,
   "metadata": {},
   "outputs": [
    {
     "data": {
      "text/plain": [
       "LGBMRegressor()"
      ]
     },
     "execution_count": 29,
     "metadata": {},
     "output_type": "execute_result"
    }
   ],
   "source": [
    "model3.fit(X_train,y_train)"
   ]
  },
  {
   "cell_type": "code",
   "execution_count": 30,
   "metadata": {},
   "outputs": [
    {
     "data": {
      "text/plain": [
       "0.9463400459695528"
      ]
     },
     "execution_count": 30,
     "metadata": {},
     "output_type": "execute_result"
    }
   ],
   "source": [
    "model3.score(X_test,y_test)"
   ]
  },
  {
   "cell_type": "code",
   "execution_count": 31,
   "metadata": {},
   "outputs": [],
   "source": [
    "pred1 = model3.predict(X_test)"
   ]
  },
  {
   "cell_type": "code",
   "execution_count": 32,
   "metadata": {},
   "outputs": [],
   "source": [
    "import pickle\n",
    "with open('model1.pickle','wb') as file:\n",
    "    pickle.dump(model3,file)"
   ]
  }
 ],
 "metadata": {
  "kernelspec": {
   "display_name": "Python 3.9.12 ('project3')",
   "language": "python",
   "name": "python3"
  },
  "language_info": {
   "codemirror_mode": {
    "name": "ipython",
    "version": 3
   },
   "file_extension": ".py",
   "mimetype": "text/x-python",
   "name": "python",
   "nbconvert_exporter": "python",
   "pygments_lexer": "ipython3",
   "version": "3.9.12"
  },
  "orig_nbformat": 4,
  "vscode": {
   "interpreter": {
    "hash": "271d275409bb823d7b5088ff83e1a9f6aad69b81f865c52bd3523b21fcd063e0"
   }
  }
 },
 "nbformat": 4,
 "nbformat_minor": 2
}
